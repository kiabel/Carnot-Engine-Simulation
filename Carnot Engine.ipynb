{
 "cells": [
  {
   "cell_type": "markdown",
   "metadata": {},
   "source": [
    "# A brif Description of Carnot's Cycle and Carnot Engine | Simulation"
   ]
  },
  {
   "cell_type": "markdown",
   "metadata": {},
   "source": [
    "## Introduction \n",
    "\n",
    "The aim of this project is to discribe the Carnot Cycle in depth and create an interactive simulation to help with understanding."
   ]
  },
  {
   "cell_type": "markdown",
   "metadata": {},
   "source": [
    "### Carnot Engine\n",
    "\n",
    "The Carnot engine is a speculative thermodynamic cycle proposed by Leonard Carnot. It calculates the maximum feasible efficiency of a heat engine during the conversion of heat into work and, conversely, working between two reservoirs.\n",
    "\n",
    "### Carnot Theorem\n",
    "\n",
    "Any system working between hot reservior ($T_H$) and cold reservior ($T_L$) can never have more efficency than the carnot engine operating between the same reserviors. Furthermore, the efficency of such engine is indepandent of the nature of the working substance and is only dependent on the temprature of the hot and cold reserviors. \n",
    "\n",
    "### carnot Cycle \n",
    "\n",
    "It is an ideal reversible closed thermodyanmics cycle. The carnot cycle consists of four steps. It starts from a state 1 with a temperature TH. (It is in contact with a heat bath with this temperature).\n",
    "1. Isothermal expansion\n",
    "2. Adiabatic expansion\n",
    "3. Isothermal compresson\n",
    "4. Adiabatic compression\n",
    "\n",
    "$\\textbf{Step - 1 (Isotermal expansion)}$ First, it excutes isothermal expanssion from $1 \\rightarrow 2$. While in contact with the heat source, the system expands. This indicates that heat is being transferred into the system. In the case of a gas, this corresponds to the gas pushing on a piston, which turns a crank to produce work. Because the system remains constant in temperature, the engine must obtain thermal energy from the heat bath. We assume that heat is flowing into the system even though the system and bath are both at the same temperature - for example, by expanding the system in very small steps so that we are always infinitesimally close to equilibrium. \n",
    "\n",
    "The system could then be isothermally compressed to return to state 1. This would complete the cycle, but we would have done exactly the same work to push the piston back - we would not have done any net work! As a result, we need to take a few more steps: we could lower the pressure in the system, allowing us to return the piston at a lower pressure, which would require less work. However, in order to return to the initial state, we would need to increase the pressure again. We could also reduce the pressure by performing an adiabatic expansion, which is what we do:\n",
    "\n",
    "$\\textbf{Step - 2 (Adiabatic expansion)}$ We have now isolated the system since the the thermal contact is removed. The volume continues to rise, but no heat is introduced. The pressure and temperature both fall as a result. The temperature drops all the way down to $T_L$. We also perform work in this part of the cycle, but the energy that goes into the work now comes from the system's internal energy, $E_{2,3} = W_{2,3}$, because the system is thermally isolated. We can now return the system to its original state, starting at a lower pressure. First, we apply isothermal compression to $T_L$.\n",
    "\n",
    "$\\textbf{Step 3 (Isothermal compression)}$ By pushing the piston back in, work is done on the system. This would raise the system's temperature, but instead thermal energy flows out of the system and into the heat sink $T_L$. Finally, we must return the system's temperature to its initial state.\n",
    "\n",
    "$\\textbf{Step 4 (Adiabatic comression)}$ We must now return the system's temperature (and pressure) to its original state. We remove the contact with the heat sink and compress the system with no thermal energy flowing into it until the temperature returns to TH and the pressure is back to its initial state.\n",
    "\n",
    "\n",
    "\n",
    "\n",
    "\n"
   ]
  },
  {
   "cell_type": "markdown",
   "metadata": {},
   "source": [
    "## Carnot cycle for ideal gas\n",
    "\n",
    "Now, let us look at how the above steps are involved when an ideal gas operating inside a Carnot cycle.\n",
    "* $\\textbf{Step 1:}$ Isothermal expansion occurs when the gas moves from $P_1$, $V_1$, $T_1$ to $P_2$, $V_2$, $T_2$. At temperature $T_1$, heat $Q1$ is absorbed from the reservoir. Because isothermal expansion occurs, the total change in internal energy is zero, and the heat absorbed by the gas equals the work done by the gas on the environment, which is given as:\n",
    "\n",
    "    $W_{1\\rightarrow2} = Q1 = \\mu*R*T_1*ln\\frac{v_2}{v_1}$\n",
    "\n",
    "* $\\textbf{Step 2:}$ Adiabatic expansion: The gas expands adiabatically from $P_2$, $V_2$, $T_1$ to $P_3$, $V_3$, $T_2$. Here, work done by the gas is given by:\n",
    "\n",
    "    $W_{2 \\rightarrow 3} = \\frac{\\mu R}{\\gamma - 1}(T_1 - T_2)$\n",
    "\n",
    "* $\\textbf{Step 3:}$ Isothermal compression: The gas is compressed isothermally from the state $P_3$, $V_3$, $T_2$ to $P_4$, $V_4$, $T_2$. Here, the work done on the gas by the environment is given by:\n",
    "\n",
    "    $W_{3 \\rightarrow 4} = \\mu*R*T_2*ln\\frac{v_3}{v_4}$\n",
    "\n",
    "* $\\textbf{Step 4:}$ Adiabatic compression: The gas is compressed adiabatically from the state $P_4$, $V_4$, $T_2$ to $P_1$, $V_1$, $T_1$. Here, the work done on the gas by the environment is given by:\n",
    "\n",
    "    $W_{4 \\rightarrow 1} = \\frac{\\mu R}{\\gamma - 1}(T_1 - T_2)$\n",
    "    \n",
    "Thus, the total work done by the gas on the environment in one complete cycle is given by:\n",
    "$W_{total} = W_{1\\rightarrow2} + W_{2\\rightarrow3} + W_{3\\rightarrow4} + W_{4\\rightarrow1}$\n",
    "\n",
    "From this, we obtain the net efficiency of Carnot engine to be:\n",
    "$Net\\, Efficiency = 1 -\\frac{T_2}{T_1}$"
   ]
  },
  {
   "cell_type": "markdown",
   "metadata": {},
   "source": [
    "## Simulation"
   ]
  },
  {
   "cell_type": "markdown",
   "metadata": {},
   "source": [
    "* The default vale for hot temperature, cold temperature and number of atoms is 300K, 200K and 60 respectively. These values can be adjusted by using the interactive slider.\n",
    "\n",
    "* First, Click on the button [CLICK HERE] to see each steps."
   ]
  },
  {
   "cell_type": "code",
   "execution_count": 1,
   "metadata": {},
   "outputs": [
    {
     "data": {
      "application/vnd.jupyter.widget-view+json": {
       "model_id": "12085ae65aa247aeab17dc6e7e80a5c7",
       "version_major": 2,
       "version_minor": 0
      },
      "text/plain": [
       "interactive(children=(IntSlider(value=300, description='HotTemprature', max=500, min=100, step=10), IntSlider(…"
      ]
     },
     "metadata": {},
     "output_type": "display_data"
    }
   ],
   "source": [
    "from ipywidgets import interact\n",
    "from ipywidgets import IntSlider\n",
    "\n",
    "HotTemprature = IntSlider(min=100, max=500, step=10, value=300)\n",
    "ColdTempratuer = IntSlider(min=90, max=490, step=10, value=200)\n",
    "NumberOfAtoms = IntSlider(min=10, max=100, step=10, value=60)\n",
    "\n",
    "def update_ColdTempratuer_range(*args):\n",
    "    ColdTempratuer.max = (-10)+HotTemprature.value\n",
    "HotTemprature.observe(update_ColdTempratuer_range, 'value')\n",
    "\n",
    "\n",
    "def printer(HotTemprature, ColdTempratuer,NumberOfAtoms):\n",
    "    print(HotTemprature, ColdTempratuer,NumberOfAtoms)\n",
    "interact(printer,HotTemprature=HotTemprature, ColdTempratuer=ColdTempratuer, NumberOfAtoms=NumberOfAtoms);"
   ]
  },
  {
   "cell_type": "code",
   "execution_count": 2,
   "metadata": {},
   "outputs": [
    {
     "data": {
      "text/html": [
       "<div id=\"glowscript\" class=\"glowscript\"></div>"
      ],
      "text/plain": [
       "<IPython.core.display.HTML object>"
      ]
     },
     "metadata": {},
     "output_type": "display_data"
    },
    {
     "data": {
      "application/javascript": [
       "if (typeof Jupyter !== \"undefined\") { window.__context = { glowscript_container: $(\"#glowscript\").removeAttr(\"id\")};}else{ element.textContent = ' ';}"
      ],
      "text/plain": [
       "<IPython.core.display.Javascript object>"
      ]
     },
     "metadata": {},
     "output_type": "display_data"
    },
    {
     "data": {
      "application/javascript": [
       "if (typeof Jupyter !== \"undefined\") {require.undef(\"nbextensions/vpython_libraries/glow.min\");}else{element.textContent = ' ';}"
      ],
      "text/plain": [
       "<IPython.core.display.Javascript object>"
      ]
     },
     "metadata": {},
     "output_type": "display_data"
    },
    {
     "data": {
      "application/javascript": [
       "if (typeof Jupyter !== \"undefined\") {require.undef(\"nbextensions/vpython_libraries/glowcomm\");}else{element.textContent = ' ';}"
      ],
      "text/plain": [
       "<IPython.core.display.Javascript object>"
      ]
     },
     "metadata": {},
     "output_type": "display_data"
    },
    {
     "data": {
      "application/javascript": [
       "if (typeof Jupyter !== \"undefined\") {require.undef(\"nbextensions/vpython_libraries/jquery-ui.custom.min\");}else{element.textContent = ' ';}"
      ],
      "text/plain": [
       "<IPython.core.display.Javascript object>"
      ]
     },
     "metadata": {},
     "output_type": "display_data"
    },
    {
     "data": {
      "application/javascript": [
       "if (typeof Jupyter !== \"undefined\") {require([\"nbextensions/vpython_libraries/glow.min\"], function(){console.log(\"GLOW LOADED\");});}else{element.textContent = ' ';}"
      ],
      "text/plain": [
       "<IPython.core.display.Javascript object>"
      ]
     },
     "metadata": {},
     "output_type": "display_data"
    },
    {
     "data": {
      "application/javascript": [
       "if (typeof Jupyter !== \"undefined\") {require([\"nbextensions/vpython_libraries/glowcomm\"], function(){console.log(\"GLOWCOMM LOADED\");});}else{element.textContent = ' ';}"
      ],
      "text/plain": [
       "<IPython.core.display.Javascript object>"
      ]
     },
     "metadata": {},
     "output_type": "display_data"
    },
    {
     "data": {
      "application/javascript": [
       "if (typeof Jupyter !== \"undefined\") {require([\"nbextensions/vpython_libraries/jquery-ui.custom.min\"], function(){console.log(\"JQUERY LOADED\");});}else{element.textContent = ' ';}"
      ],
      "text/plain": [
       "<IPython.core.display.Javascript object>"
      ]
     },
     "metadata": {},
     "output_type": "display_data"
    }
   ],
   "source": [
    "from vpython import * \n",
    "\n",
    "#scene window\n",
    "scene.width = 500\n",
    "scene.height = 600\n",
    "scene.title = \"Carnot Cycle Simulation \\n\"\n",
    "scene.background = color.white\n",
    "scene.center = vector(0,1.6,0)\n",
    "scene.forward = vector(0,-.3,-1)\n",
    "scene.range = 3.5\n",
    "scene.userzoom = False\n",
    "scene.userspin = False\n",
    "scene.align = \"left\"\n",
    "scene.background = color.black\n",
    "\n",
    "#functions\n",
    "def ButtonClick():\n",
    "    global submitted\n",
    "    submitted = True\n",
    "                \n",
    "def showomega():\n",
    "    omegalabel.text = str(round(10.*L.z/Iwheel)/10.)+' rad/s'\n",
    "\n",
    "#parametres\n",
    "HotTmpe = HotTemprature.value\n",
    "ColdTmpe = ColdTempratuer.value\n",
    "n = NumberOfAtoms.value \n",
    "Temp = InitialTemp = HotTmpe\n",
    "heliumMass = 4E-3/6E23 \n",
    "heliumSize = 0.03 \n",
    "BoltzmannK = 1.4E-23\n",
    "P = Pinitial = 80 \n",
    "tk = 0.1 #thickness\n",
    "w = 1 #width\n",
    "d = w #deep\n",
    "h = 2 #height\n",
    "Lr = 2*d\n",
    "Sr = 1.4*Lr\n",
    "gamma = 1.4 \n",
    "Radwheel = 0.8*w\n",
    "Iwheel = 10\n",
    "Radcent = 0.8*Radwheel\n",
    "theta = -0.9*pi/2\n",
    "L = vector(0,0,0)\n",
    "dt = 0.01\n",
    "offset = 1.1*heliumSize\n",
    "moleq = []\n",
    "colors = [color.orange, color.red, color.green, color.blue,color.yellow, color.cyan, color.magenta]\n",
    "listP = []\n",
    "listM = []\n",
    "\n",
    "#objects\n",
    "button(text='<b>CLICK HERE</b>', color=color.orange, background=color.cyan, pos=scene.title_anchor, bind=ButtonClick)\n",
    "gastube = extrusion(path=[vector(0,h,0),vector(0,0,0)] ,up = vector(90,0,0), opacity = 0.35, shape=shapes.circle(radius=0.8,thickness=tk)) \n",
    "gastube.green=0.7\n",
    "base = cylinder(pos=vector(0,-tk/2,0), radius=0.75, opacity = 0.35, up = vector(90, 0, 0), size=vector(0.1,1.3,1.3))\n",
    "base.green=0.7\n",
    "wheel = cylinder(pos=vector(0,0,0), axis=vector(0,0,tk), radius=Radwheel, color=color.cyan)\n",
    "ax = cylinder(pos=-vector(0,0,2*tk), axis=vector(0,0,3.5*tk), radius=tk/2, color=color.red)\n",
    "cent = cylinder(pos=Radcent*vector(cos(theta),sin(theta),0), axis=vector(0,0,3*tk), radius=tk/2, color=color.red)\n",
    "r1 = box(pos=vector(0,0,tk+0.03/2),size=vector(2*Radwheel,0.03,0.03), color=color.black)\n",
    "r2 = box(pos=vector(0,0,tk+0.03/2),size=vector(0.03,2*Radwheel,0.03), color=color.black)\n",
    "r1.rotate(angle=theta, axis=vector(0,0,1))\n",
    "r2.rotate(angle=theta, axis=vector(0,0,1))\n",
    "lifter = compound([wheel, ax, cent, r1, r2])\n",
    "lifter.pos = vector(0,2*h,-2*tk)\n",
    "pist = cylinder(pos=vector(0,0.2*h+tk/2,0), radius=0.7, color=color.magenta, up = vector(90, 0, 0), size=vector(0.1,1.3,1.3))\n",
    "pivot = cylinder(pos=pist.pos+vector(0,tk/2,-tk/2), axis=vector(0,0,tk), radius=tk/2, color=color.magenta)\n",
    "centloc = vector(lifter.pos.x+Radcent*cos(theta),lifter.pos.y+Radcent*sin(theta),pivot.pos.z)\n",
    "rd = cylinder(pos=vector(pivot.pos.x,pivot.pos.y,0), axis=centloc-pivot.pos, radius=tk/5, color=color.magenta)\n",
    "rdL = mag(rd.axis)          \n",
    "omegalabel = label(pos=lifter.pos+vector(0,Radwheel,0), xoffset=10,line=0, box=0, opacity=0, color=color.red, text='0 rad/s', visible=False)\n",
    "HotReservoir = cylinder(pos=base.pos+vector(0,-Lr/2-tk/2,0), radius = 0.7, size=vector(Lr,Lr,Lr), color=color.red, up = vector(90, 0, 0) )\n",
    "Hotlabel = label(pos=HotReservoir.pos + vector(0,0*0.4*Lr,0*Lr/2), text=str(HotTmpe)+' K',color=color.white, opacity=0, box=0, line=0)          \n",
    "ColdReservoir = cylinder(pos=HotReservoir.pos+vector(Sr,0,0), radius=0.7, size=vector(Lr,Lr,Lr), color=color.blue, up = vector(90, 0, 0))\n",
    "Coldlabel = label(pos=ColdReservoir.pos + vector(-0.1,0.3*Lr,Lr/2), text=str(ColdTmpe)+' K',color=color.white, opacity=0, box=0, line=0)\n",
    "\n",
    "#p-V graph\n",
    "graph(title = \"Carnot Cycle, p - V diagram\", xtitle= \"Volume\",ytitle=\"Pressure\",xmin=0, xmax=2, ymin=0, ymax=100, x=500, width=400, height=scene.height, align='right')\n",
    "PV = gcurve(color=color.red, dot=True, dot_color=color.black)\n",
    "PVlabel1 = gcurve(label='Step - 1 :- isothermal expansion',color=color.red,visible=True) \n",
    "PVlabel2 = gcurve(label='Step - 2 :- adiabatic expansion', color=color.gray(0.5),visible=True)\n",
    "PVlabel3 = gcurve(label='Step - 3 :- isothermal compresion',  color=color.blue,visible = True)\n",
    "PVlabel4 = gcurve(label='Step - 4 :- adiabatic compresion', color=color.orange,visible = True)\n",
    "\n",
    "\n",
    "#from kinetic energy of ideal gas\n",
    "pAverage = sqrt(2*heliumMass*1.5*BoltzmannK*HotTmpe)*(5E-5/dt) \n",
    "#position of molecule of gas\n",
    "for i in range(n):\n",
    "    Lmin = -w/2+offset\n",
    "    Lmax = w/2-offset\n",
    "    x = Lmin+(Lmax-Lmin)*random()\n",
    "    Lmin = base.pos.y+tk/2+offset\n",
    "    Lmax = pist.pos.y-tk/2-offset\n",
    "    y = Lmin+(Lmax-Lmin)*random()\n",
    "    Lmin = -d/2+offset\n",
    "    Lmax = d/2-offset\n",
    "    z = Lmin+(Lmax-Lmin)*random()\n",
    "    moleq.append(sphere(pos=vector(x,y,z), radius=heliumSize, color=colors[i % 7]))\n",
    "    angle = pi*random()\n",
    "    phi = 2*pi*random()\n",
    "    px = pAverage*sin(angle)*cos(phi)\n",
    "    py = pAverage*sin(angle)*sin(phi)\n",
    "    pz = pAverage*cos(angle)\n",
    "    listP.append(vector(px,py,pz))\n",
    "    listM.append(heliumMass)\n",
    "\n",
    "phase = 0\n",
    "simulate = False\n",
    "first = True\n",
    "second = False\n",
    "submitted = False\n",
    "freesimulate = False\n",
    "yinitial = 0\n",
    "\n",
    "while 1:\n",
    "    rate(600)    \n",
    "    if not simulate or first:\n",
    "        if submitted:\n",
    "            submitted = False\n",
    "            if first:\n",
    "                simulate = False\n",
    "                first = False\n",
    "                second = True\n",
    "                continue\n",
    "            simulate = not first\n",
    "    if simulate:\n",
    "        rotForce = cross(centloc-lifter.pos,P*norm(rd.axis))\n",
    "        L = L + rotForce*dt\n",
    "        omega = L.z/Iwheel\n",
    "        dtheta = omega*dt\n",
    "        if omega >= 4 or Temp <= ColdTmpe:\n",
    "            break\n",
    "        theta += dtheta\n",
    "        lifter.rotate(angle=dtheta, axis=vector(0,0,1))\n",
    "        centloc = vector(lifter.pos.x+Radcent*cos(theta),lifter.pos.y+Radcent*sin(theta),pivot.pos.z)\n",
    "        deltay = sqrt(rdL**2-centloc.x**2)\n",
    "        oldy = pist.pos.y-tk/2\n",
    "        pivot.pos.y = centloc.y-deltay\n",
    "        pist.pos.y = pivot.pos.y-tk/2\n",
    "        newy = pist.pos.y-tk/2\n",
    "        Vratio = oldy/newy\n",
    "        rd.pos = pivot.pos\n",
    "        rd.axis = centloc-rd.pos\n",
    "        if phase == 1 or phase == 3: # isothermal\n",
    "            P = P*Vratio\n",
    "        else: # adiabatic\n",
    "            P = P*Vratio**gamma\n",
    "        Temp = InitialTemp*(P*newy)/(Pinitial*yinitial)\n",
    "        showomega()\n",
    "        PV.plot(pos=(newy,P))\n",
    "\n",
    "    if phase == 0:\n",
    "        oldy = newy = yinitial = pist.pos.y-tk/2\n",
    "        PV.plot(pos=(newy,P))\n",
    "        plotcolor = color.red\n",
    "        submitted = False\n",
    "        first = False\n",
    "        simulate = False\n",
    "        freesimulate = False\n",
    "        phase = 1\n",
    "    if phase == 1: # isothermal expansion\n",
    "        if newy >= 1.1:\n",
    "            phase = 2\n",
    "            PV = gcurve(color=color.gray(0.5), dot=True, dot_color=color.black)\n",
    "            PV.plot(pos=(newy,P))\n",
    "            if freesimulate:\n",
    "                second = True\n",
    "                continue\n",
    "            else:\n",
    "                simulate = False\n",
    "                first = True\n",
    "                continue\n",
    "    elif phase == 2: # adiabatic expansion\n",
    "        if second:\n",
    "            HotReservoir.pos.x -= Sr\n",
    "            Hotlabel.pos.x -= Sr\n",
    "            second = False\n",
    "            continue\n",
    "        if centloc.x <= 0:\n",
    "            phase = 3\n",
    "            PV = gcurve(color=color.blue, dot=True, dot_color=color.black)\n",
    "            PV.plot(pos=(newy,P))\n",
    "            if freesimulate:\n",
    "                second = True\n",
    "                continue\n",
    "            else:\n",
    "                simulate = False\n",
    "                first = True\n",
    "                continue\n",
    "    elif phase == 3: # isothermal compression\n",
    "        if second:\n",
    "            ColdReservoir.pos.x -= Sr\n",
    "            Coldlabel.pos.x -= Sr\n",
    "            second = False\n",
    "            continue\n",
    "        if newy <= yinitial*(InitialTemp/Temp)**(1/(gamma-1)):\n",
    "            phase = 4\n",
    "            PV = gcurve(color=color.orange, dot=True, dot_color=color.black)\n",
    "            PV.plot(pos=(newy,P))\n",
    "            if freesimulate:\n",
    "                second = True\n",
    "                continue\n",
    "            else:\n",
    "                simulate = False\n",
    "                first = True\n",
    "                continue\n",
    "    else: # adiabatic compression\n",
    "        if second:\n",
    "            ColdReservoir.pos.x += Sr\n",
    "            Coldlabel.pos.x += Sr\n",
    "            second = False \n",
    "            continue\n",
    "        if Temp >= HotTmpe:\n",
    "            phase = 1\n",
    "            PV = gcurve(color=color.red, dot=True, dot_color=color.black)\n",
    "            PV.plot(pos=(newy,P))\n",
    "            simulate = True\n",
    "            freesimulate = True\n",
    "            omegalabel.visible = True\n",
    "            first = False\n",
    "            HotReservoir.pos.x += Sr\n",
    "            Hotlabel.pos.x += Sr\n",
    "            continue\n",
    "        \n",
    "    #here, looping over to update the positions of molecule of gas   & making sure \n",
    "    #the current avg energy is according to the current temperature\n",
    "    totP = 0\n",
    "    for i in range(n):\n",
    "        p = listP[i]\n",
    "        pos = moleq[i].pos + (p/listM[i])*dt\n",
    "        totP += mag(p)\n",
    "        collide = False\n",
    "        if not (-w/2 < pos.x < w/2):\n",
    "            listP[i].x = -listP[i].x\n",
    "            collide = True\n",
    "        if not (base.pos.y+tk/2+offset < pos.y < pist.pos.y-tk/2-offset):\n",
    "            listP[i].y = -listP[i].y\n",
    "            \n",
    "            if newy < oldy and pos.y >= pist.pos.y-tk/2-offset:\n",
    "                moleq[i].pos.y = pist.pos.y-tk/2-offset\n",
    "            collide = True\n",
    "        if not (-d/2 < pos.z < d/2):\n",
    "            listP[i].z = -listP[i].z\n",
    "            collide = True\n",
    "        if not collide:\n",
    "            moleq[i].pos = pos\n",
    "    \n",
    "    pAverageNow = totP/n\n",
    "    for i in range(n):\n",
    "        listP[i] = listP[i]*sqrt(Temp/InitialTemp)*(pAverage/pAverageNow)"
   ]
  }
 ],
 "metadata": {
  "kernelspec": {
   "display_name": "Python 3",
   "language": "python",
   "name": "python3"
  },
  "language_info": {
   "codemirror_mode": {
    "name": "ipython",
    "version": 3
   },
   "file_extension": ".py",
   "mimetype": "text/x-python",
   "name": "python",
   "nbconvert_exporter": "python",
   "pygments_lexer": "ipython3",
   "version": "3.7.1"
  }
 },
 "nbformat": 4,
 "nbformat_minor": 2
}
